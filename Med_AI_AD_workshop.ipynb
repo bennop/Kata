{
  "nbformat": 4,
  "nbformat_minor": 0,
  "metadata": {
    "colab": {
      "provenance": [],
      "include_colab_link": true
    },
    "kernelspec": {
      "name": "python3",
      "display_name": "Python 3"
    },
    "language_info": {
      "name": "python"
    },
    "accelerator": "GPU",
    "gpuClass": "standard",
    "widgets": {
      "application/vnd.jupyter.widget-state+json": {
        "9dabb121fa394a3badaea41290fe3c36": {
          "model_module": "@jupyter-widgets/controls",
          "model_name": "HBoxModel",
          "model_module_version": "1.5.0",
          "state": {
            "_dom_classes": [],
            "_model_module": "@jupyter-widgets/controls",
            "_model_module_version": "1.5.0",
            "_model_name": "HBoxModel",
            "_view_count": null,
            "_view_module": "@jupyter-widgets/controls",
            "_view_module_version": "1.5.0",
            "_view_name": "HBoxView",
            "box_style": "",
            "children": [
              "IPY_MODEL_3f0aded4032644f0aa60b1703d47592b",
              "IPY_MODEL_b4b7ba9c78fb4e11936f492222481dfa",
              "IPY_MODEL_81eb5625b57f44d2ab86bd9e0e5b3484"
            ],
            "layout": "IPY_MODEL_0cc6fbbfe29142b6bf5ea0e66963744a"
          }
        },
        "3f0aded4032644f0aa60b1703d47592b": {
          "model_module": "@jupyter-widgets/controls",
          "model_name": "HTMLModel",
          "model_module_version": "1.5.0",
          "state": {
            "_dom_classes": [],
            "_model_module": "@jupyter-widgets/controls",
            "_model_module_version": "1.5.0",
            "_model_name": "HTMLModel",
            "_view_count": null,
            "_view_module": "@jupyter-widgets/controls",
            "_view_module_version": "1.5.0",
            "_view_name": "HTMLView",
            "description": "",
            "description_tooltip": null,
            "layout": "IPY_MODEL_60d139c10be048158990aecb4a2e6ddd",
            "placeholder": "​",
            "style": "IPY_MODEL_b3d511b9a1a04950822cad1fba676e4a",
            "value": "100%"
          }
        },
        "b4b7ba9c78fb4e11936f492222481dfa": {
          "model_module": "@jupyter-widgets/controls",
          "model_name": "FloatProgressModel",
          "model_module_version": "1.5.0",
          "state": {
            "_dom_classes": [],
            "_model_module": "@jupyter-widgets/controls",
            "_model_module_version": "1.5.0",
            "_model_name": "FloatProgressModel",
            "_view_count": null,
            "_view_module": "@jupyter-widgets/controls",
            "_view_module_version": "1.5.0",
            "_view_name": "ProgressView",
            "bar_style": "success",
            "description": "",
            "description_tooltip": null,
            "layout": "IPY_MODEL_dcfceb9e53df45fd8b0cc7dab6c2f714",
            "max": 170498071,
            "min": 0,
            "orientation": "horizontal",
            "style": "IPY_MODEL_83693c5356134e4d8fda3dbe9377db75",
            "value": 170498071
          }
        },
        "81eb5625b57f44d2ab86bd9e0e5b3484": {
          "model_module": "@jupyter-widgets/controls",
          "model_name": "HTMLModel",
          "model_module_version": "1.5.0",
          "state": {
            "_dom_classes": [],
            "_model_module": "@jupyter-widgets/controls",
            "_model_module_version": "1.5.0",
            "_model_name": "HTMLModel",
            "_view_count": null,
            "_view_module": "@jupyter-widgets/controls",
            "_view_module_version": "1.5.0",
            "_view_name": "HTMLView",
            "description": "",
            "description_tooltip": null,
            "layout": "IPY_MODEL_9b03a777a70445eeb2c34b4332550536",
            "placeholder": "​",
            "style": "IPY_MODEL_5afbbac599ea421eb035cb2ab78f2397",
            "value": " 170498071/170498071 [00:13&lt;00:00, 14284690.26it/s]"
          }
        },
        "0cc6fbbfe29142b6bf5ea0e66963744a": {
          "model_module": "@jupyter-widgets/base",
          "model_name": "LayoutModel",
          "model_module_version": "1.2.0",
          "state": {
            "_model_module": "@jupyter-widgets/base",
            "_model_module_version": "1.2.0",
            "_model_name": "LayoutModel",
            "_view_count": null,
            "_view_module": "@jupyter-widgets/base",
            "_view_module_version": "1.2.0",
            "_view_name": "LayoutView",
            "align_content": null,
            "align_items": null,
            "align_self": null,
            "border": null,
            "bottom": null,
            "display": null,
            "flex": null,
            "flex_flow": null,
            "grid_area": null,
            "grid_auto_columns": null,
            "grid_auto_flow": null,
            "grid_auto_rows": null,
            "grid_column": null,
            "grid_gap": null,
            "grid_row": null,
            "grid_template_areas": null,
            "grid_template_columns": null,
            "grid_template_rows": null,
            "height": null,
            "justify_content": null,
            "justify_items": null,
            "left": null,
            "margin": null,
            "max_height": null,
            "max_width": null,
            "min_height": null,
            "min_width": null,
            "object_fit": null,
            "object_position": null,
            "order": null,
            "overflow": null,
            "overflow_x": null,
            "overflow_y": null,
            "padding": null,
            "right": null,
            "top": null,
            "visibility": null,
            "width": null
          }
        },
        "60d139c10be048158990aecb4a2e6ddd": {
          "model_module": "@jupyter-widgets/base",
          "model_name": "LayoutModel",
          "model_module_version": "1.2.0",
          "state": {
            "_model_module": "@jupyter-widgets/base",
            "_model_module_version": "1.2.0",
            "_model_name": "LayoutModel",
            "_view_count": null,
            "_view_module": "@jupyter-widgets/base",
            "_view_module_version": "1.2.0",
            "_view_name": "LayoutView",
            "align_content": null,
            "align_items": null,
            "align_self": null,
            "border": null,
            "bottom": null,
            "display": null,
            "flex": null,
            "flex_flow": null,
            "grid_area": null,
            "grid_auto_columns": null,
            "grid_auto_flow": null,
            "grid_auto_rows": null,
            "grid_column": null,
            "grid_gap": null,
            "grid_row": null,
            "grid_template_areas": null,
            "grid_template_columns": null,
            "grid_template_rows": null,
            "height": null,
            "justify_content": null,
            "justify_items": null,
            "left": null,
            "margin": null,
            "max_height": null,
            "max_width": null,
            "min_height": null,
            "min_width": null,
            "object_fit": null,
            "object_position": null,
            "order": null,
            "overflow": null,
            "overflow_x": null,
            "overflow_y": null,
            "padding": null,
            "right": null,
            "top": null,
            "visibility": null,
            "width": null
          }
        },
        "b3d511b9a1a04950822cad1fba676e4a": {
          "model_module": "@jupyter-widgets/controls",
          "model_name": "DescriptionStyleModel",
          "model_module_version": "1.5.0",
          "state": {
            "_model_module": "@jupyter-widgets/controls",
            "_model_module_version": "1.5.0",
            "_model_name": "DescriptionStyleModel",
            "_view_count": null,
            "_view_module": "@jupyter-widgets/base",
            "_view_module_version": "1.2.0",
            "_view_name": "StyleView",
            "description_width": ""
          }
        },
        "dcfceb9e53df45fd8b0cc7dab6c2f714": {
          "model_module": "@jupyter-widgets/base",
          "model_name": "LayoutModel",
          "model_module_version": "1.2.0",
          "state": {
            "_model_module": "@jupyter-widgets/base",
            "_model_module_version": "1.2.0",
            "_model_name": "LayoutModel",
            "_view_count": null,
            "_view_module": "@jupyter-widgets/base",
            "_view_module_version": "1.2.0",
            "_view_name": "LayoutView",
            "align_content": null,
            "align_items": null,
            "align_self": null,
            "border": null,
            "bottom": null,
            "display": null,
            "flex": null,
            "flex_flow": null,
            "grid_area": null,
            "grid_auto_columns": null,
            "grid_auto_flow": null,
            "grid_auto_rows": null,
            "grid_column": null,
            "grid_gap": null,
            "grid_row": null,
            "grid_template_areas": null,
            "grid_template_columns": null,
            "grid_template_rows": null,
            "height": null,
            "justify_content": null,
            "justify_items": null,
            "left": null,
            "margin": null,
            "max_height": null,
            "max_width": null,
            "min_height": null,
            "min_width": null,
            "object_fit": null,
            "object_position": null,
            "order": null,
            "overflow": null,
            "overflow_x": null,
            "overflow_y": null,
            "padding": null,
            "right": null,
            "top": null,
            "visibility": null,
            "width": null
          }
        },
        "83693c5356134e4d8fda3dbe9377db75": {
          "model_module": "@jupyter-widgets/controls",
          "model_name": "ProgressStyleModel",
          "model_module_version": "1.5.0",
          "state": {
            "_model_module": "@jupyter-widgets/controls",
            "_model_module_version": "1.5.0",
            "_model_name": "ProgressStyleModel",
            "_view_count": null,
            "_view_module": "@jupyter-widgets/base",
            "_view_module_version": "1.2.0",
            "_view_name": "StyleView",
            "bar_color": null,
            "description_width": ""
          }
        },
        "9b03a777a70445eeb2c34b4332550536": {
          "model_module": "@jupyter-widgets/base",
          "model_name": "LayoutModel",
          "model_module_version": "1.2.0",
          "state": {
            "_model_module": "@jupyter-widgets/base",
            "_model_module_version": "1.2.0",
            "_model_name": "LayoutModel",
            "_view_count": null,
            "_view_module": "@jupyter-widgets/base",
            "_view_module_version": "1.2.0",
            "_view_name": "LayoutView",
            "align_content": null,
            "align_items": null,
            "align_self": null,
            "border": null,
            "bottom": null,
            "display": null,
            "flex": null,
            "flex_flow": null,
            "grid_area": null,
            "grid_auto_columns": null,
            "grid_auto_flow": null,
            "grid_auto_rows": null,
            "grid_column": null,
            "grid_gap": null,
            "grid_row": null,
            "grid_template_areas": null,
            "grid_template_columns": null,
            "grid_template_rows": null,
            "height": null,
            "justify_content": null,
            "justify_items": null,
            "left": null,
            "margin": null,
            "max_height": null,
            "max_width": null,
            "min_height": null,
            "min_width": null,
            "object_fit": null,
            "object_position": null,
            "order": null,
            "overflow": null,
            "overflow_x": null,
            "overflow_y": null,
            "padding": null,
            "right": null,
            "top": null,
            "visibility": null,
            "width": null
          }
        },
        "5afbbac599ea421eb035cb2ab78f2397": {
          "model_module": "@jupyter-widgets/controls",
          "model_name": "DescriptionStyleModel",
          "model_module_version": "1.5.0",
          "state": {
            "_model_module": "@jupyter-widgets/controls",
            "_model_module_version": "1.5.0",
            "_model_name": "DescriptionStyleModel",
            "_view_count": null,
            "_view_module": "@jupyter-widgets/base",
            "_view_module_version": "1.2.0",
            "_view_name": "StyleView",
            "description_width": ""
          }
        },
        "68035277572e42c6b19fca97aee3823c": {
          "model_module": "@jupyter-widgets/controls",
          "model_name": "HBoxModel",
          "model_module_version": "1.5.0",
          "state": {
            "_dom_classes": [],
            "_model_module": "@jupyter-widgets/controls",
            "_model_module_version": "1.5.0",
            "_model_name": "HBoxModel",
            "_view_count": null,
            "_view_module": "@jupyter-widgets/controls",
            "_view_module_version": "1.5.0",
            "_view_name": "HBoxView",
            "box_style": "",
            "children": [
              "IPY_MODEL_78fda3a0978b4fcebe101a63e68b0501",
              "IPY_MODEL_31b2a5f16c2d4c5a98dbfc2d3e55da63",
              "IPY_MODEL_bf4efc618a6c479a92e485f7a7f4802e"
            ],
            "layout": "IPY_MODEL_8f6f1b9618e94d4db6803a4eb2cc442a"
          }
        },
        "78fda3a0978b4fcebe101a63e68b0501": {
          "model_module": "@jupyter-widgets/controls",
          "model_name": "HTMLModel",
          "model_module_version": "1.5.0",
          "state": {
            "_dom_classes": [],
            "_model_module": "@jupyter-widgets/controls",
            "_model_module_version": "1.5.0",
            "_model_name": "HTMLModel",
            "_view_count": null,
            "_view_module": "@jupyter-widgets/controls",
            "_view_module_version": "1.5.0",
            "_view_name": "HTMLView",
            "description": "",
            "description_tooltip": null,
            "layout": "IPY_MODEL_1660ee254e634db0a53cbd17d8822f00",
            "placeholder": "​",
            "style": "IPY_MODEL_ca5455ae88594fa9bfe9fc05066b479e",
            "value": "100%"
          }
        },
        "31b2a5f16c2d4c5a98dbfc2d3e55da63": {
          "model_module": "@jupyter-widgets/controls",
          "model_name": "FloatProgressModel",
          "model_module_version": "1.5.0",
          "state": {
            "_dom_classes": [],
            "_model_module": "@jupyter-widgets/controls",
            "_model_module_version": "1.5.0",
            "_model_name": "FloatProgressModel",
            "_view_count": null,
            "_view_module": "@jupyter-widgets/controls",
            "_view_module_version": "1.5.0",
            "_view_name": "ProgressView",
            "bar_style": "success",
            "description": "",
            "description_tooltip": null,
            "layout": "IPY_MODEL_e77b9f58543f4cdcb8e1d29fc62e8735",
            "max": 241627721,
            "min": 0,
            "orientation": "horizontal",
            "style": "IPY_MODEL_d935f4b9f2644c7aabb1bb0b2be0f78c",
            "value": 241627721
          }
        },
        "bf4efc618a6c479a92e485f7a7f4802e": {
          "model_module": "@jupyter-widgets/controls",
          "model_name": "HTMLModel",
          "model_module_version": "1.5.0",
          "state": {
            "_dom_classes": [],
            "_model_module": "@jupyter-widgets/controls",
            "_model_module_version": "1.5.0",
            "_model_name": "HTMLModel",
            "_view_count": null,
            "_view_module": "@jupyter-widgets/controls",
            "_view_module_version": "1.5.0",
            "_view_name": "HTMLView",
            "description": "",
            "description_tooltip": null,
            "layout": "IPY_MODEL_3f7aa268d8654e93baf41a4bb4e7a86a",
            "placeholder": "​",
            "style": "IPY_MODEL_f3a154a40c7043aebf5fa2abc44c6b39",
            "value": " 230M/230M [00:00&lt;00:00, 256MB/s]"
          }
        },
        "8f6f1b9618e94d4db6803a4eb2cc442a": {
          "model_module": "@jupyter-widgets/base",
          "model_name": "LayoutModel",
          "model_module_version": "1.2.0",
          "state": {
            "_model_module": "@jupyter-widgets/base",
            "_model_module_version": "1.2.0",
            "_model_name": "LayoutModel",
            "_view_count": null,
            "_view_module": "@jupyter-widgets/base",
            "_view_module_version": "1.2.0",
            "_view_name": "LayoutView",
            "align_content": null,
            "align_items": null,
            "align_self": null,
            "border": null,
            "bottom": null,
            "display": null,
            "flex": null,
            "flex_flow": null,
            "grid_area": null,
            "grid_auto_columns": null,
            "grid_auto_flow": null,
            "grid_auto_rows": null,
            "grid_column": null,
            "grid_gap": null,
            "grid_row": null,
            "grid_template_areas": null,
            "grid_template_columns": null,
            "grid_template_rows": null,
            "height": null,
            "justify_content": null,
            "justify_items": null,
            "left": null,
            "margin": null,
            "max_height": null,
            "max_width": null,
            "min_height": null,
            "min_width": null,
            "object_fit": null,
            "object_position": null,
            "order": null,
            "overflow": null,
            "overflow_x": null,
            "overflow_y": null,
            "padding": null,
            "right": null,
            "top": null,
            "visibility": null,
            "width": null
          }
        },
        "1660ee254e634db0a53cbd17d8822f00": {
          "model_module": "@jupyter-widgets/base",
          "model_name": "LayoutModel",
          "model_module_version": "1.2.0",
          "state": {
            "_model_module": "@jupyter-widgets/base",
            "_model_module_version": "1.2.0",
            "_model_name": "LayoutModel",
            "_view_count": null,
            "_view_module": "@jupyter-widgets/base",
            "_view_module_version": "1.2.0",
            "_view_name": "LayoutView",
            "align_content": null,
            "align_items": null,
            "align_self": null,
            "border": null,
            "bottom": null,
            "display": null,
            "flex": null,
            "flex_flow": null,
            "grid_area": null,
            "grid_auto_columns": null,
            "grid_auto_flow": null,
            "grid_auto_rows": null,
            "grid_column": null,
            "grid_gap": null,
            "grid_row": null,
            "grid_template_areas": null,
            "grid_template_columns": null,
            "grid_template_rows": null,
            "height": null,
            "justify_content": null,
            "justify_items": null,
            "left": null,
            "margin": null,
            "max_height": null,
            "max_width": null,
            "min_height": null,
            "min_width": null,
            "object_fit": null,
            "object_position": null,
            "order": null,
            "overflow": null,
            "overflow_x": null,
            "overflow_y": null,
            "padding": null,
            "right": null,
            "top": null,
            "visibility": null,
            "width": null
          }
        },
        "ca5455ae88594fa9bfe9fc05066b479e": {
          "model_module": "@jupyter-widgets/controls",
          "model_name": "DescriptionStyleModel",
          "model_module_version": "1.5.0",
          "state": {
            "_model_module": "@jupyter-widgets/controls",
            "_model_module_version": "1.5.0",
            "_model_name": "DescriptionStyleModel",
            "_view_count": null,
            "_view_module": "@jupyter-widgets/base",
            "_view_module_version": "1.2.0",
            "_view_name": "StyleView",
            "description_width": ""
          }
        },
        "e77b9f58543f4cdcb8e1d29fc62e8735": {
          "model_module": "@jupyter-widgets/base",
          "model_name": "LayoutModel",
          "model_module_version": "1.2.0",
          "state": {
            "_model_module": "@jupyter-widgets/base",
            "_model_module_version": "1.2.0",
            "_model_name": "LayoutModel",
            "_view_count": null,
            "_view_module": "@jupyter-widgets/base",
            "_view_module_version": "1.2.0",
            "_view_name": "LayoutView",
            "align_content": null,
            "align_items": null,
            "align_self": null,
            "border": null,
            "bottom": null,
            "display": null,
            "flex": null,
            "flex_flow": null,
            "grid_area": null,
            "grid_auto_columns": null,
            "grid_auto_flow": null,
            "grid_auto_rows": null,
            "grid_column": null,
            "grid_gap": null,
            "grid_row": null,
            "grid_template_areas": null,
            "grid_template_columns": null,
            "grid_template_rows": null,
            "height": null,
            "justify_content": null,
            "justify_items": null,
            "left": null,
            "margin": null,
            "max_height": null,
            "max_width": null,
            "min_height": null,
            "min_width": null,
            "object_fit": null,
            "object_position": null,
            "order": null,
            "overflow": null,
            "overflow_x": null,
            "overflow_y": null,
            "padding": null,
            "right": null,
            "top": null,
            "visibility": null,
            "width": null
          }
        },
        "d935f4b9f2644c7aabb1bb0b2be0f78c": {
          "model_module": "@jupyter-widgets/controls",
          "model_name": "ProgressStyleModel",
          "model_module_version": "1.5.0",
          "state": {
            "_model_module": "@jupyter-widgets/controls",
            "_model_module_version": "1.5.0",
            "_model_name": "ProgressStyleModel",
            "_view_count": null,
            "_view_module": "@jupyter-widgets/base",
            "_view_module_version": "1.2.0",
            "_view_name": "StyleView",
            "bar_color": null,
            "description_width": ""
          }
        },
        "3f7aa268d8654e93baf41a4bb4e7a86a": {
          "model_module": "@jupyter-widgets/base",
          "model_name": "LayoutModel",
          "model_module_version": "1.2.0",
          "state": {
            "_model_module": "@jupyter-widgets/base",
            "_model_module_version": "1.2.0",
            "_model_name": "LayoutModel",
            "_view_count": null,
            "_view_module": "@jupyter-widgets/base",
            "_view_module_version": "1.2.0",
            "_view_name": "LayoutView",
            "align_content": null,
            "align_items": null,
            "align_self": null,
            "border": null,
            "bottom": null,
            "display": null,
            "flex": null,
            "flex_flow": null,
            "grid_area": null,
            "grid_auto_columns": null,
            "grid_auto_flow": null,
            "grid_auto_rows": null,
            "grid_column": null,
            "grid_gap": null,
            "grid_row": null,
            "grid_template_areas": null,
            "grid_template_columns": null,
            "grid_template_rows": null,
            "height": null,
            "justify_content": null,
            "justify_items": null,
            "left": null,
            "margin": null,
            "max_height": null,
            "max_width": null,
            "min_height": null,
            "min_width": null,
            "object_fit": null,
            "object_position": null,
            "order": null,
            "overflow": null,
            "overflow_x": null,
            "overflow_y": null,
            "padding": null,
            "right": null,
            "top": null,
            "visibility": null,
            "width": null
          }
        },
        "f3a154a40c7043aebf5fa2abc44c6b39": {
          "model_module": "@jupyter-widgets/controls",
          "model_name": "DescriptionStyleModel",
          "model_module_version": "1.5.0",
          "state": {
            "_model_module": "@jupyter-widgets/controls",
            "_model_module_version": "1.5.0",
            "_model_name": "DescriptionStyleModel",
            "_view_count": null,
            "_view_module": "@jupyter-widgets/base",
            "_view_module_version": "1.2.0",
            "_view_name": "StyleView",
            "description_width": ""
          }
        }
      }
    }
  },
  "cells": [
    {
      "cell_type": "markdown",
      "metadata": {
        "id": "view-in-github",
        "colab_type": "text"
      },
      "source": [
        "<a href=\"https://colab.research.google.com/github/bennop/Kata/blob/master/Med_AI_AD_workshop.ipynb\" target=\"_parent\"><img src=\"https://colab.research.google.com/assets/colab-badge.svg\" alt=\"Open In Colab\"/></a>"
      ]
    },
    {
      "cell_type": "markdown",
      "source": [
        "#This notebook:\n",
        "1. Anomaly detection for tabular data:\n",
        "  * 1.1 Load data\n",
        "  * 1.2 Density estimation AD\n",
        "\n",
        "2. Anomaly detection for images:\n",
        "  * Load data\n",
        "  * Density estimation on raw images\n",
        "  * AD w. deep representations\n",
        "  * Add simple metric adaptation\n",
        "\n",
        "3. Try you own tabular / image dataset!\n",
        "\n",
        "The slides can be found here:\n",
        "https://docs.google.com/presentation/d/1GYtnnRaE364T_oTNMBYjdIvCcO8fYsVh/edit?usp=sharing&ouid=113958115966925000213&rtpof=true&sd=true\n"
      ],
      "metadata": {
        "id": "Y267OKgt3qNW"
      }
    },
    {
      "cell_type": "markdown",
      "source": [
        "# Notebook Tips:\n",
        "## 1. Feel free to ask questions and consult during the the session\n",
        "## 2. Switch your colab runtim to GPU (Runtime / Change runtime type)\n",
        "## 3. Note the comments, try to twik different parameters\n",
        "## 4. To try your own dataset, you might find this useful: https://colab.research.google.com/notebooks/io.ipynb#scrollTo=RWSJpsyKqHjH\n"
      ],
      "metadata": {
        "id": "lk1xOh7B4ig9"
      }
    },
    {
      "cell_type": "markdown",
      "source": [
        "# Part 1: **Anomaly detection for tabuler data**"
      ],
      "metadata": {
        "id": "AtaFP2Y9cWXM"
      }
    },
    {
      "cell_type": "code",
      "source": [],
      "metadata": {
        "id": "rL5mVXel6WJq"
      },
      "execution_count": null,
      "outputs": []
    },
    {
      "cell_type": "markdown",
      "source": [
        "##1.1.1 Download data \n",
        "(you can just run the cells with ctrl+shift)"
      ],
      "metadata": {
        "id": "rVM1skfPkROC"
      }
    },
    {
      "cell_type": "code",
      "source": [
        "import scipy.io\n",
        "import numpy as np\n",
        "import pandas as pd\n",
        "import torchvision.datasets as dset\n",
        "import os\n"
      ],
      "metadata": {
        "id": "8-P1BojgeRd7"
      },
      "execution_count": null,
      "outputs": []
    },
    {
      "cell_type": "code",
      "source": [
        "mkdir tabular_data"
      ],
      "metadata": {
        "id": "191E4lkLrHAI"
      },
      "execution_count": null,
      "outputs": []
    },
    {
      "cell_type": "code",
      "source": [
        "cd tabular_data"
      ],
      "metadata": {
        "colab": {
          "base_uri": "https://localhost:8080/"
        },
        "id": "fHC9k2T2kC4j",
        "outputId": "45731e4f-59a5-4ab7-ed77-6581c13d64b5"
      },
      "execution_count": null,
      "outputs": [
        {
          "output_type": "stream",
          "name": "stdout",
          "text": [
            "/content/tabular_data/tabular_data\n"
          ]
        }
      ]
    },
    {
      "cell_type": "code",
      "source": [
        "#@title Downloading files\n",
        "%%capture\n",
        "\n",
        "!wget https://www.dropbox.com/s/632rdwozfnwr7kb/arrhythmia.mat?dl=0\n",
        "!wget https://www.dropbox.com/s/98ewaxaoq0j0ldf/thyroid.mat?dl=0\n",
        "!wget https://www.dropbox.com/s/c42lxljv3u1213j/pendigits.mat?dl=0"
      ],
      "metadata": {
        "id": "EwvSrzUcrMso",
        "cellView": "form"
      },
      "execution_count": null,
      "outputs": []
    },
    {
      "cell_type": "code",
      "source": [
        "ls"
      ],
      "metadata": {
        "colab": {
          "base_uri": "https://localhost:8080/"
        },
        "id": "78Kpyf22rPFo",
        "outputId": "4a5b26e9-8f60-4a3d-88fb-a25fc4b9fa63"
      },
      "execution_count": null,
      "outputs": [
        {
          "output_type": "stream",
          "name": "stdout",
          "text": [
            "'arrhythmia.mat?dl=0'  'pendigits.mat?dl=0'  'thyroid.mat?dl=0'\n"
          ]
        }
      ]
    },
    {
      "cell_type": "markdown",
      "source": [
        "change the file names of `'arrhythmia.mat?dl=0'  'pendigits.mat?dl=0'  'thyroid.mat?dl=0'` if accordingly\n"
      ],
      "metadata": {
        "id": "xh6BL9o1zDtl"
      }
    },
    {
      "cell_type": "code",
      "source": [
        "#@title Data loaders are here\n",
        "\n",
        "\n",
        "class Data_Loader:\n",
        "\n",
        "    def __init__(self, n_trains=None):\n",
        "        self.n_train = n_trains\n",
        "        self.urls = [\n",
        "        \"http://kdd.ics.uci.edu/databases/kddcup99/kddcup.data_10_percent.gz\",\n",
        "        \"http://kdd.ics.uci.edu/databases/kddcup99/kddcup.names\"\n",
        "        ]\n",
        "\n",
        "    def norm_kdd_data(self, train_real, val_real, val_fake, cont_indices):\n",
        "        symb_indices = np.delete(np.arange(train_real.shape[1]), cont_indices)\n",
        "        mus = train_real[:, cont_indices].mean(0)\n",
        "        sds = train_real[:, cont_indices].std(0)\n",
        "        sds[sds == 0] = 1\n",
        "\n",
        "        def get_norm(xs, mu, sd):\n",
        "            bin_cols = xs[:, symb_indices]\n",
        "            cont_cols = xs[:, cont_indices]\n",
        "            cont_cols = np.array([(x - mu) / sd for x in cont_cols])\n",
        "            return np.concatenate([bin_cols, cont_cols], 1)\n",
        "\n",
        "        train_real = get_norm(train_real, mus, sds)\n",
        "        val_real = get_norm(val_real, mus, sds)\n",
        "        val_fake = get_norm(val_fake, mus, sds)\n",
        "        return train_real, val_real, val_fake\n",
        "\n",
        "\n",
        "    def norm_data(self, train_real, val_real, val_fake):\n",
        "        mus = train_real.mean(0)\n",
        "        sds = train_real.std(0)\n",
        "        sds[sds == 0] = 1\n",
        "\n",
        "        def get_norm(xs, mu, sd):\n",
        "            return np.array([(x - mu) / sd for x in xs])\n",
        "\n",
        "        train_real = get_norm(train_real, mus, sds)\n",
        "        val_real = get_norm(val_real, mus, sds)\n",
        "        val_fake = get_norm(val_fake, mus, sds)\n",
        "        return train_real, val_real, val_fake\n",
        "\n",
        "    def norm(self, data, mu=1):\n",
        "        return 2 * (data / 255.) - mu\n",
        "\n",
        "    def get_dataset(self, dataset_name, c_percent=None, true_label=1):\n",
        "        if dataset_name == 'cifar10':\n",
        "            return self.load_data_CIFAR10(true_label)\n",
        "        elif dataset_name == 'kdd':\n",
        "            return self.KDD99_train_valid_data()\n",
        "        elif dataset_name == 'kddrev':\n",
        "            return self.KDD99Rev_train_valid_data()\n",
        "        else:\n",
        "            return self.General_train_valid_data(dataset_name)\n",
        "        #if dataset_name == 'thyroid':\n",
        "        #    return self.Pendigits_train_valid_data()\n",
        "        #if dataset_name == 'pendigits':\n",
        "        #    return self.Thyroid_train_valid_data()\n",
        "        #if dataset_name == 'arrhythmia':\n",
        "        #    return self.Arrhythmia_train_valid_data()\n",
        "        if dataset_name == 'ckdd':\n",
        "            return self.contaminatedKDD99_train_valid_data(c_percent)\n",
        "\n",
        "\n",
        "    def load_data_CIFAR10(self, true_label):\n",
        "        root = './data'\n",
        "        if not os.path.exists(root):\n",
        "            os.mkdir(root)\n",
        "\n",
        "        trainset = dset.CIFAR10(root, train=True, download=True)\n",
        "        train_data = np.array(trainset.data)\n",
        "        train_labels = np.array(trainset.targets)\n",
        "\n",
        "        testset = dset.CIFAR10(root, train=False, download=True)\n",
        "        test_data = np.array(testset.data)\n",
        "        test_labels = np.array(testset.targets)\n",
        "\n",
        "        train_data = train_data[np.where(train_labels == true_label)]\n",
        "        #x_train = self.norm(np.asarray(train_data, dtype='float32'))\n",
        "        #x_test = self.norm(np.asarray(test_data, dtype='float32'))\n",
        "        x_train = (np.asarray(train_data, dtype='float32'))\n",
        "        x_test = (np.asarray(test_data, dtype='float32'))\n",
        "        return x_train, x_test, test_labels\n",
        "\n",
        "\n",
        "    def General_train_valid_data(self, str):\n",
        "        data = scipy.io.loadmat(\"data/\" + str)\n",
        "        samples = data['X']  # 3772\n",
        "        labels = ((data['y']).astype(np.int32)).reshape(-1)\n",
        "\n",
        "        norm_samples = samples[labels == 0]  # 3679 norm\n",
        "        anom_samples = samples[labels == 1]  # 93 anom\n",
        "\n",
        "        n_train = len(norm_samples) // 2\n",
        "        x_train = norm_samples[:n_train]  # 1839 train\n",
        "\n",
        "        val_real = norm_samples[n_train:]\n",
        "        val_fake = anom_samples\n",
        "        return self.norm_data(x_train, val_real, val_fake)\n",
        "\n",
        "    def Pendigits_train_valid_data(self):\n",
        "        data = scipy.io.loadmat(\"pendigits.mat?dl=0\")\n",
        "        samples = data['X']  # 3772\n",
        "        labels = ((data['y']).astype(np.int32)).reshape(-1)\n",
        "\n",
        "        norm_samples = samples[labels == 0]  # 3679 norm\n",
        "        anom_samples = samples[labels == 1]  # 93 anom\n",
        "\n",
        "        n_train = len(norm_samples) // 2\n",
        "        x_train = norm_samples[:n_train]  # 1839 train\n",
        "\n",
        "        val_real = norm_samples[n_train:]\n",
        "        val_fake = anom_samples\n",
        "        return self.norm_data(x_train, val_real, val_fake)\n",
        "\n",
        "    def Thyroid_train_valid_data(self):\n",
        "        data = scipy.io.loadmat(\"thyroid.mat?dl=0\")\n",
        "        samples = data['X']  # 3772\n",
        "        labels = ((data['y']).astype(np.int32)).reshape(-1)\n",
        "\n",
        "        norm_samples = samples[labels == 0]  # 3679 norm\n",
        "        anom_samples = samples[labels == 1]  # 93 anom\n",
        "\n",
        "        n_train = len(norm_samples) // 2\n",
        "        x_train = norm_samples[:n_train]  # 1839 train\n",
        "\n",
        "        val_real = norm_samples[n_train:]\n",
        "        val_fake = anom_samples\n",
        "        return self.norm_data(x_train, val_real, val_fake)\n",
        "\n",
        "\n",
        "    def Arrhythmia_train_valid_data(self):\n",
        "        data = scipy.io.loadmat(\"arrhythmia.mat?dl=0\")\n",
        "        samples = data['X']  # 518\n",
        "        labels = ((data['y']).astype(np.int32)).reshape(-1)\n",
        "\n",
        "        norm_samples = samples[labels == 0]  # 452 norm\n",
        "        anom_samples = samples[labels == 1]  # 66 anom\n",
        "\n",
        "        n_train = len(norm_samples) // 2\n",
        "        x_train = norm_samples[:n_train]  # 226 train\n",
        "\n",
        "        val_real = norm_samples[n_train:]\n",
        "        val_fake = anom_samples\n",
        "        return self.norm_data(x_train, val_real, val_fake)\n",
        "\n",
        "\n",
        "    def KDD99_preprocessing(self):\n",
        "        df_colnames = pd.read_csv(self.urls[1], skiprows=1, sep=':', names=['f_names', 'f_types'])\n",
        "        df_colnames.loc[df_colnames.shape[0]] = ['status', ' symbolic.']\n",
        "        df = pd.read_csv(self.urls[0], header=None, names=df_colnames['f_names'].values)\n",
        "        df_symbolic = df_colnames[df_colnames['f_types'].str.contains('symbolic.')]\n",
        "        df_continuous = df_colnames[df_colnames['f_types'].str.contains('continuous.')]\n",
        "        samples = pd.get_dummies(df.iloc[:, :-1], columns=df_symbolic['f_names'][:-1])\n",
        "\n",
        "        smp_keys = samples.keys()\n",
        "        cont_indices = []\n",
        "        for cont in df_continuous['f_names']:\n",
        "            cont_indices.append(smp_keys.get_loc(cont))\n",
        "\n",
        "        labels = np.where(df['status'] == 'normal.', 1, 0)\n",
        "        return np.array(samples), np.array(labels), cont_indices\n",
        "\n",
        "\n",
        "    def KDD99_train_valid_data(self):\n",
        "        samples, labels, cont_indices = self.KDD99_preprocessing()\n",
        "        anom_samples = samples[labels == 1]  # norm: 97278\n",
        "\n",
        "        norm_samples = samples[labels == 0]  # attack: 396743\n",
        "\n",
        "        n_norm = norm_samples.shape[0]\n",
        "        ranidx = np.random.permutation(n_norm)\n",
        "        n_train = n_norm // 2\n",
        "\n",
        "        x_train = norm_samples[ranidx[:n_train]]\n",
        "        norm_test = norm_samples[ranidx[n_train:]]\n",
        "\n",
        "        val_real = norm_test\n",
        "        val_fake = anom_samples\n",
        "        return self.norm_kdd_data(x_train, val_real, val_fake, cont_indices)\n",
        "\n",
        "\n",
        "    def KDD99Rev_train_valid_data(self):\n",
        "        samples, labels, cont_indices = self.KDD99_preprocessing()\n",
        "\n",
        "        norm_samples = samples[labels == 1]  # norm: 97278\n",
        "\n",
        "        # Randomly draw samples labeled as 'attack'\n",
        "        # so that the ratio btw norm:attack will be 4:1\n",
        "        # len(anom) = 24,319\n",
        "        anom_samples = samples[labels == 0]  # attack: 396743\n",
        "\n",
        "        rp = np.random.permutation(len(anom_samples))\n",
        "        rp_cut = rp[:24319]\n",
        "        anom_samples = anom_samples[rp_cut]  # attack:24319\n",
        "\n",
        "        n_norm = norm_samples.shape[0]\n",
        "        ranidx = np.random.permutation(n_norm)\n",
        "        n_train = n_norm // 2\n",
        "\n",
        "        x_train = norm_samples[ranidx[:n_train]]\n",
        "        norm_test = norm_samples[ranidx[n_train:]]\n",
        "\n",
        "        val_real = norm_test\n",
        "        val_fake = anom_samples\n",
        "        return self.norm_kdd_data(x_train, val_real, val_fake, cont_indices)\n",
        "\n",
        "\n",
        "    def contaminatedKDD99_train_valid_data(self, c_percent):\n",
        "        samples, labels, cont_indices = self.KDD99_preprocessing()\n",
        "\n",
        "        ranidx = np.random.permutation(len(samples))\n",
        "        n_test = len(samples)//2\n",
        "        x_test = samples[ranidx[:n_test]]\n",
        "        y_test = labels[ranidx[:n_test]]\n",
        "\n",
        "        x_train = samples[ranidx[n_test:]]\n",
        "        y_train = labels[ranidx[n_test:]]\n",
        "\n",
        "        norm_samples = x_train[y_train == 0]  # attack: 396743\n",
        "        anom_samples = x_train[y_train == 1]  # norm: 97278\n",
        "        n_contaminated = int((c_percent/100)*len(anom_samples))\n",
        "\n",
        "        rpc = np.random.permutation(n_contaminated)\n",
        "        x_train = np.concatenate([norm_samples, anom_samples[rpc]])\n",
        "\n",
        "        val_real = x_test[y_test == 0]\n",
        "        val_fake = x_test[y_test == 1]\n",
        "        return self.norm_kdd_data(x_train, val_real, val_fake, cont_indices)"
      ],
      "metadata": {
        "id": "5npzFAMfer-6"
      },
      "execution_count": null,
      "outputs": []
    },
    {
      "cell_type": "markdown",
      "source": [
        "\n",
        "\n",
        "# **Intresting part starts here**"
      ],
      "metadata": {
        "id": "Q9gNPMgf3CYJ"
      }
    },
    {
      "cell_type": "code",
      "source": [
        "dl = Data_Loader()\n"
      ],
      "metadata": {
        "id": "lxv3zvPhevqq"
      },
      "execution_count": null,
      "outputs": []
    },
    {
      "cell_type": "markdown",
      "source": [
        "### Here you can choose a dataset\n",
        "The description of these dataset can be found here (but you don't have to read it): <br>\n",
        "https://arxiv.org/pdf/2005.02359.pdf"
      ],
      "metadata": {
        "id": "4KWnQVlkkY6Z"
      }
    },
    {
      "cell_type": "code",
      "source": [
        "dl = Data_Loader()\n",
        "#train_real, val_real, val_fake = dl.get_dataset(\"kdd\", 0)\n",
        "#train_real, val_real, val_fake = dl.Thyroid_train_valid_data()\n",
        "train_real, val_real, val_fake = dl.Arrhythmia_train_valid_data()\n",
        "#train_real, val_real, val_fake = dl.Pendigits_train_valid_data()\n",
        "#train_real, val_real, val_fake = dl.contaminatedKDD99_train_valid_data(0.1)\n",
        "\n",
        "test_label = np.concatenate([np.zeros(len(val_real)), np.ones(len(val_fake))])\n",
        "test_real = np.concatenate([val_real, val_fake])\n",
        "\n"
      ],
      "metadata": {
        "id": "dnIua5l_q5Sq"
      },
      "execution_count": null,
      "outputs": []
    },
    {
      "cell_type": "code",
      "source": [
        "print(\"train_real\",train_real.shape)\n",
        "print(\"test_real\",test_real.shape)"
      ],
      "metadata": {
        "colab": {
          "base_uri": "https://localhost:8080/"
        },
        "id": "LLiey9Fg4D1m",
        "outputId": "aa7cb90c-a7f3-4539-878d-230b15794373"
      },
      "execution_count": null,
      "outputs": [
        {
          "output_type": "stream",
          "name": "stdout",
          "text": [
            "train_real (193, 274)\n",
            "test_real (259, 274)\n"
          ]
        }
      ]
    },
    {
      "cell_type": "markdown",
      "source": [
        "### 1.1.2 Plot features"
      ],
      "metadata": {
        "id": "tT_kiNhpkhiF"
      }
    },
    {
      "cell_type": "code",
      "source": [
        "from sklearn.manifold import TSNE\n",
        "import matplotlib.pyplot as plt\n",
        "tsne = TSNE(n_components=2, verbose=1, perplexity=40, n_iter=300)\n",
        "\n"
      ],
      "metadata": {
        "id": "MJviyGHYfKpZ"
      },
      "execution_count": null,
      "outputs": []
    },
    {
      "cell_type": "code",
      "source": [
        "test_tsne = tsne.fit_transform(test_real)"
      ],
      "metadata": {
        "colab": {
          "base_uri": "https://localhost:8080/"
        },
        "id": "WH8_quSWjPut",
        "outputId": "10311605-f32e-462e-a759-2478b4a9a469"
      },
      "execution_count": null,
      "outputs": [
        {
          "output_type": "stream",
          "name": "stdout",
          "text": [
            "[t-SNE] Computing 121 nearest neighbors...\n",
            "[t-SNE] Indexed 259 samples in 0.000s...\n",
            "[t-SNE] Computed neighbors for 259 samples in 0.010s...\n",
            "[t-SNE] Computed conditional probabilities for sample 259 / 259\n",
            "[t-SNE] Mean sigma: 6.221649\n"
          ]
        },
        {
          "output_type": "stream",
          "name": "stderr",
          "text": [
            "/usr/local/lib/python3.8/dist-packages/sklearn/manifold/_t_sne.py:780: FutureWarning: The default initialization in TSNE will change from 'random' to 'pca' in 1.2.\n",
            "  warnings.warn(\n",
            "/usr/local/lib/python3.8/dist-packages/sklearn/manifold/_t_sne.py:790: FutureWarning: The default learning rate in TSNE will change from 200.0 to 'auto' in 1.2.\n",
            "  warnings.warn(\n"
          ]
        },
        {
          "output_type": "stream",
          "name": "stdout",
          "text": [
            "[t-SNE] KL divergence after 250 iterations with early exaggeration: 71.401146\n",
            "[t-SNE] KL divergence after 300 iterations: 1.144058\n"
          ]
        }
      ]
    },
    {
      "cell_type": "code",
      "source": [
        "fig = plt.scatter(test_tsne[:,0], test_tsne[:,1], c=test_label)\n",
        "plt.legend(*fig.legend_elements())\n",
        "plt.show()\n"
      ],
      "metadata": {
        "colab": {
          "base_uri": "https://localhost:8080/",
          "height": 265
        },
        "id": "LqnN60I0k4Nc",
        "outputId": "669dd699-ad9a-42bf-a6e2-de7033e56050"
      },
      "execution_count": null,
      "outputs": [
        {
          "output_type": "display_data",
          "data": {
            "text/plain": [
              "<Figure size 432x288 with 1 Axes>"
            ],
            "image/png": "[encoded data removed]"
          },
          "metadata": {
            "needs_background": "light"
          }
        }
      ]
    },
    {
      "cell_type": "markdown",
      "source": [
        "## 1.2 Anomaly detection by density estimation"
      ],
      "metadata": {
        "id": "kwr0R4adkmJH"
      }
    },
    {
      "cell_type": "code",
      "source": [
        "from sklearn.metrics import roc_curve\n",
        "from sklearn.metrics import roc_auc_score\n"
      ],
      "metadata": {
        "id": "x-2D3yaex5_y"
      },
      "execution_count": null,
      "outputs": []
    },
    {
      "cell_type": "code",
      "source": [
        "#@title A function to plot the ROC Curve\n",
        "\n",
        "def plot_scores(test_label, mean_distances):\n",
        "  # plot the mean distances\n",
        "  fig = plt.hist(mean_distances[test_label==0], bins=100, alpha=0.5, label='Normal')\n",
        "  plt.hist(mean_distances[test_label==1], bins=100, alpha=0.5, label='Anomaly')\n",
        "  plt.legend(loc='upper right')\n",
        "  plt.xlabel('Anomaly score')\n",
        "  plt.ylabel('Number of samples')  \n",
        "  plt.show()\n",
        "\n",
        "  fpr, tpr, thresholds = roc_curve(test_label, mean_distances)\n",
        "  plt.plot(fpr, tpr)\n",
        "  plt.xlabel('False Positive Rate')\n",
        "  plt.ylabel('True Positive Rate')\n",
        "  plt.title('ROC Curve')\n",
        "  plt.show()  \n",
        "\n",
        "  #calc rocauc\n",
        "  print(\"roc auc is %.3f\"%roc_auc_score(test_label, mean_distances))  "
      ],
      "metadata": {
        "id": "UDy3CfEbxyFy"
      },
      "execution_count": null,
      "outputs": []
    },
    {
      "cell_type": "markdown",
      "source": [
        "### Simple kNN density estimator\n",
        "###Try changing `n_neighbors` to control the bias variance tradeoff\n",
        "https://en.wikipedia.org/wiki/Bias%E2%80%93variance_tradeoff"
      ],
      "metadata": {
        "id": "u_PDAkzuoCx7"
      }
    },
    {
      "cell_type": "code",
      "source": [
        "from sklearn.neighbors import NearestNeighbors"
      ],
      "metadata": {
        "id": "ulklx2e6ofGx"
      },
      "execution_count": null,
      "outputs": []
    },
    {
      "cell_type": "code",
      "source": [
        "# fit on training data\n",
        "neigh = NearestNeighbors(n_neighbors=20)\n",
        "neigh.fit(train_real)\n",
        "# get k nearest neighbors of each point in test data\n",
        "distances, indices = neigh.kneighbors(test_real)\n",
        "# get the mean distance of each point to its nearest neighbors\n",
        "mean_distances = np.mean(distances, axis=1)\n",
        "mean_distances = np.clip(mean_distances, 0, 100)\n",
        "\n",
        "plot_scores(test_label, mean_distances)"
      ],
      "metadata": {
        "colab": {
          "base_uri": "https://localhost:8080/",
          "height": 577
        },
        "id": "tm45ZXSaoV6y",
        "outputId": "72e83a89-07ab-4fe7-a038-2726a77ff436"
      },
      "execution_count": null,
      "outputs": [
        {
          "output_type": "display_data",
          "data": {
            "text/plain": [
              "<Figure size 432x288 with 1 Axes>"
            ],
            "image/png": "[encoded data removed]"
          },
          "metadata": {
            "needs_background": "light"
          }
        },
        {
          "output_type": "display_data",
          "data": {
            "text/plain": [
              "<Figure size 432x288 with 1 Axes>"
            ],
            "image/png": "[encoded data removed]"
          },
          "metadata": {
            "needs_background": "light"
          }
        },
        {
          "output_type": "stream",
          "name": "stdout",
          "text": [
            "roc auc is 0.778\n"
          ]
        }
      ]
    },
    {
      "cell_type": "code",
      "source": [],
      "metadata": {
        "id": "WvsLZQzDpVsx"
      },
      "execution_count": null,
      "outputs": []
    },
    {
      "cell_type": "markdown",
      "source": [
        "# 2. **Anomaly detection for images**"
      ],
      "metadata": {
        "id": "l4udAX2X4sG_"
      }
    },
    {
      "cell_type": "markdown",
      "source": [
        "## 2.1 Load data\n",
        "### `normal_class` defines the class of CIFAR10 we deem normal"
      ],
      "metadata": {
        "id": "iBW3gaXplFQD"
      }
    },
    {
      "cell_type": "code",
      "source": [
        "normal_class = 0"
      ],
      "metadata": {
        "id": "rwAzUDOB9mOS"
      },
      "execution_count": null,
      "outputs": []
    },
    {
      "cell_type": "code",
      "source": [
        "x_train, x_test, imgage_class = dl.load_data_CIFAR10(true_label = normal_class)\n"
      ],
      "metadata": {
        "colab": {
          "base_uri": "https://localhost:8080/",
          "height": 100,
          "referenced_widgets": [
            "9dabb121fa394a3badaea41290fe3c36",
            "3f0aded4032644f0aa60b1703d47592b",
            "b4b7ba9c78fb4e11936f492222481dfa",
            "81eb5625b57f44d2ab86bd9e0e5b3484",
            "0cc6fbbfe29142b6bf5ea0e66963744a",
            "60d139c10be048158990aecb4a2e6ddd",
            "b3d511b9a1a04950822cad1fba676e4a",
            "dcfceb9e53df45fd8b0cc7dab6c2f714",
            "83693c5356134e4d8fda3dbe9377db75",
            "9b03a777a70445eeb2c34b4332550536",
            "5afbbac599ea421eb035cb2ab78f2397"
          ]
        },
        "id": "Qgdl3_FWphSY",
        "outputId": "c575559b-dd35-445e-91f6-4c16e1f25bbb"
      },
      "execution_count": null,
      "outputs": [
        {
          "output_type": "stream",
          "name": "stdout",
          "text": [
            "Downloading https://www.cs.toronto.edu/~kriz/cifar-10-python.tar.gz to ./data/cifar-10-python.tar.gz\n"
          ]
        },
        {
          "output_type": "display_data",
          "data": {
            "text/plain": [
              "  0%|          | 0/170498071 [00:00<?, ?it/s]"
            ],
            "application/vnd.jupyter.widget-view+json": {
              "version_major": 2,
              "version_minor": 0,
              "model_id": "9dabb121fa394a3badaea41290fe3c36"
            }
          },
          "metadata": {}
        },
        {
          "output_type": "stream",
          "name": "stdout",
          "text": [
            "Extracting ./data/cifar-10-python.tar.gz to ./data\n",
            "Files already downloaded and verified\n"
          ]
        }
      ]
    },
    {
      "cell_type": "code",
      "source": [
        "img_test_label = 1 - (imgage_class == normal_class).astype('int')\n"
      ],
      "metadata": {
        "id": "XSy_IE6c9dSx"
      },
      "execution_count": null,
      "outputs": []
    },
    {
      "cell_type": "code",
      "source": [
        "#@title Here you can try to downsample your data\n",
        "\n",
        "is_short = False\n",
        "if is_short:\n",
        "  print(\"x_train\",x_train.shape)\n",
        "  print(\"x_test\",x_test.shape)\n",
        "  x_train = x_train[::10]\n",
        "  x_test = x_test[::10]\n",
        "  img_test_label = img_test_label[::10]\n",
        "\n",
        "  print(\"img_test_label\",img_test_label.shape)\n",
        "  print(\"x_train\",x_train.shape)\n",
        "  print(\"x_test\",x_test.shape)"
      ],
      "metadata": {
        "id": "GslXXAlkcY6v"
      },
      "execution_count": null,
      "outputs": []
    },
    {
      "cell_type": "code",
      "source": [],
      "metadata": {
        "id": "7cbgOUSacyzw"
      },
      "execution_count": null,
      "outputs": []
    },
    {
      "cell_type": "markdown",
      "source": [
        "###Example of a normal train sample"
      ],
      "metadata": {
        "id": "hyg3Up7c8Ryu"
      }
    },
    {
      "cell_type": "code",
      "source": [
        "sample_train = x_train[1]\n",
        "sample_train = (sample_train - np.min(sample_train)) / (np.max(sample_train) - np.min(sample_train))\n",
        "plt.imshow(sample_train)"
      ],
      "metadata": {
        "colab": {
          "base_uri": "https://localhost:8080/",
          "height": 283
        },
        "id": "wwMYCW9w6tml",
        "outputId": "28cf8808-1f87-4830-8981-d2c65215bcdc"
      },
      "execution_count": null,
      "outputs": [
        {
          "output_type": "execute_result",
          "data": {
            "text/plain": [
              "<matplotlib.image.AxesImage at 0x7f44185afa90>"
            ]
          },
          "metadata": {},
          "execution_count": 34
        },
        {
          "output_type": "display_data",
          "data": {
            "text/plain": [
              "<Figure size 432x288 with 1 Axes>"
            ],
            "image/png": "[encoded data removed]"
          },
          "metadata": {
            "needs_background": "light"
          }
        }
      ]
    },
    {
      "cell_type": "markdown",
      "source": [
        "###Example of a test sample\n",
        " An `img_test_label` of $1$ ($0$) corresponds to an anomaly (normal sample)"
      ],
      "metadata": {
        "id": "uu8sPFZ38U1K"
      }
    },
    {
      "cell_type": "code",
      "source": [
        "sample_train = x_test[-1]\n",
        "sample_train = (sample_train - np.min(sample_train)) / (np.max(sample_train) - np.min(sample_train))\n",
        "plt.imshow(sample_train)"
      ],
      "metadata": {
        "colab": {
          "base_uri": "https://localhost:8080/",
          "height": 283
        },
        "id": "l5gPVPvM7WSj",
        "outputId": "16d19f0f-c7eb-4248-ee52-b1d81e01f67c"
      },
      "execution_count": null,
      "outputs": [
        {
          "output_type": "execute_result",
          "data": {
            "text/plain": [
              "<matplotlib.image.AxesImage at 0x7f4417cc2eb0>"
            ]
          },
          "metadata": {},
          "execution_count": 35
        },
        {
          "output_type": "display_data",
          "data": {
            "text/plain": [
              "<Figure size 432x288 with 1 Axes>"
            ],
            "image/png": "[encoded data removed]"
          },
          "metadata": {
            "needs_background": "light"
          }
        }
      ]
    },
    {
      "cell_type": "code",
      "source": [],
      "metadata": {
        "id": "PmtrYZ4yhOWj"
      },
      "execution_count": null,
      "outputs": []
    },
    {
      "cell_type": "markdown",
      "source": [
        "## 2.2 Density estimation on raw images"
      ],
      "metadata": {
        "id": "sv5zmU7A8iG-"
      }
    },
    {
      "cell_type": "code",
      "source": [
        "x_train_raw_vector = x_train.reshape((len(x_train), -1))\n",
        "x_test_raw_vector = x_test.reshape((len(x_test), -1))\n",
        "print(\"x_train_raw_vector\",x_train_raw_vector.shape)\n",
        "print(\"x_test_raw_vector\",x_test_raw_vector.shape)"
      ],
      "metadata": {
        "id": "wmclIjOO8gxh",
        "colab": {
          "base_uri": "https://localhost:8080/"
        },
        "outputId": "fb596190-a3fb-47aa-e04c-95c68bc735fa"
      },
      "execution_count": null,
      "outputs": [
        {
          "output_type": "stream",
          "name": "stdout",
          "text": [
            "x_train_raw_vector (5000, 3072)\n",
            "x_test_raw_vector (10000, 3072)\n"
          ]
        }
      ]
    },
    {
      "cell_type": "code",
      "source": [
        "# fit on training data\n",
        "neigh = NearestNeighbors(n_neighbors=2)\n",
        "neigh.fit(x_train_raw_vector)\n",
        "# get k nearest neighbors of each point in test data\n",
        "distances, indices = neigh.kneighbors(x_test_raw_vector)\n",
        "# get the mean distance of each point to its nearest neighbors\n",
        "mean_distances = np.mean(distances, axis=1)\n",
        "mean_distances = np.clip(mean_distances, 0, 10000)\n",
        "\n",
        "plot_scores(img_test_label, mean_distances)"
      ],
      "metadata": {
        "colab": {
          "base_uri": "https://localhost:8080/",
          "height": 574
        },
        "id": "6yvwh3Gv839K",
        "outputId": "4bcb8bfb-3ab8-4aae-8497-ab62238363b5"
      },
      "execution_count": null,
      "outputs": [
        {
          "output_type": "display_data",
          "data": {
            "text/plain": [
              "<Figure size 432x288 with 1 Axes>"
            ],
            "image/png": "[encoded data removed]"
          },
          "metadata": {
            "needs_background": "light"
          }
        },
        {
          "output_type": "display_data",
          "data": {
            "text/plain": [
              "<Figure size 432x288 with 1 Axes>"
            ],
            "image/png": "[encoded data removed]"
          },
          "metadata": {
            "needs_background": "light"
          }
        },
        {
          "output_type": "stream",
          "name": "stdout",
          "text": [
            "roc auc is 0.701\n"
          ]
        }
      ]
    },
    {
      "cell_type": "code",
      "source": [],
      "metadata": {
        "id": "y55iAaK2nDdB"
      },
      "execution_count": null,
      "outputs": []
    },
    {
      "cell_type": "markdown",
      "source": [
        "## 2.3 AD w. deep representations\n"
      ],
      "metadata": {
        "id": "xxjQkDvhnD-K"
      }
    },
    {
      "cell_type": "code",
      "source": [
        "import torch\n",
        "import torch.nn as nn\n",
        "import torchvision.models as models\n",
        "import torchvision.transforms as transforms\n",
        "from torch.autograd import Variable\n",
        "from PIL import Image\n",
        "net = models.resnet152(pretrained=True)\n",
        "net = nn.Sequential(*list(net.children())[:-1])\n",
        "\n",
        "net.eval()\n",
        "pass"
      ],
      "metadata": {
        "id": "XWth8QJl6GWU",
        "colab": {
          "base_uri": "https://localhost:8080/",
          "height": 154,
          "referenced_widgets": [
            "68035277572e42c6b19fca97aee3823c",
            "78fda3a0978b4fcebe101a63e68b0501",
            "31b2a5f16c2d4c5a98dbfc2d3e55da63",
            "bf4efc618a6c479a92e485f7a7f4802e",
            "8f6f1b9618e94d4db6803a4eb2cc442a",
            "1660ee254e634db0a53cbd17d8822f00",
            "ca5455ae88594fa9bfe9fc05066b479e",
            "e77b9f58543f4cdcb8e1d29fc62e8735",
            "d935f4b9f2644c7aabb1bb0b2be0f78c",
            "3f7aa268d8654e93baf41a4bb4e7a86a",
            "f3a154a40c7043aebf5fa2abc44c6b39"
          ]
        },
        "outputId": "1c67a711-79b8-4601-d51f-d71d9d940937"
      },
      "execution_count": null,
      "outputs": [
        {
          "output_type": "stream",
          "name": "stderr",
          "text": [
            "/usr/local/lib/python3.8/dist-packages/torchvision/models/_utils.py:208: UserWarning: The parameter 'pretrained' is deprecated since 0.13 and may be removed in the future, please use 'weights' instead.\n",
            "  warnings.warn(\n",
            "/usr/local/lib/python3.8/dist-packages/torchvision/models/_utils.py:223: UserWarning: Arguments other than a weight enum or `None` for 'weights' are deprecated since 0.13 and may be removed in the future. The current behavior is equivalent to passing `weights=ResNet152_Weights.IMAGENET1K_V1`. You can also use `weights=ResNet152_Weights.DEFAULT` to get the most up-to-date weights.\n",
            "  warnings.warn(msg)\n",
            "Downloading: \"https://download.pytorch.org/models/resnet152-394f9c45.pth\" to /root/.cache/torch/hub/checkpoints/resnet152-394f9c45.pth\n"
          ]
        },
        {
          "output_type": "display_data",
          "data": {
            "text/plain": [
              "  0%|          | 0.00/230M [00:00<?, ?B/s]"
            ],
            "application/vnd.jupyter.widget-view+json": {
              "version_major": 2,
              "version_minor": 0,
              "model_id": "68035277572e42c6b19fca97aee3823c"
            }
          },
          "metadata": {}
        }
      ]
    },
    {
      "cell_type": "code",
      "source": [
        "net.cuda()\n",
        "batch_size = 64"
      ],
      "metadata": {
        "id": "A9Szyr-QnsQf"
      },
      "execution_count": null,
      "outputs": []
    },
    {
      "cell_type": "code",
      "source": [
        "transform = transforms.Compose([\n",
        "    transforms.ToTensor(),\n",
        "    transforms.Resize((224,224),interpolation=transforms.InterpolationMode.BICUBIC),\n",
        "    transforms.Normalize(mean=[0.485, 0.456, 0.406],\n",
        "                            std=[0.229, 0.224, 0.225])\n",
        "\n",
        "])"
      ],
      "metadata": {
        "id": "b7nwEWSfR3XW"
      },
      "execution_count": null,
      "outputs": []
    },
    {
      "cell_type": "code",
      "source": [
        "def get_features(net, set):\n",
        "    with torch.no_grad():\n",
        "      features = []\n",
        "      for i in range(0, len(set), batch_size):\n",
        "          batch = set[i:i+batch_size]\n",
        "          #transform batch to tensor using imagenet normalization\n",
        "          batch = [transform(img) for img in batch]\n",
        "          batch = torch.stack(batch).cuda()\n",
        "          batch_features = net(batch).view(batch.size(0), -1).cpu()\n",
        "          #Normalize features\n",
        "          batch_features = batch_features / batch_features.norm(dim=1, keepdim=True)\n",
        "          features.append(batch_features.data.numpy())\n",
        "      return np.concatenate(features)"
      ],
      "metadata": {
        "id": "y459QYO5nsS7"
      },
      "execution_count": null,
      "outputs": []
    },
    {
      "cell_type": "code",
      "source": [
        "x_train = [Image.fromarray(img.astype(np.uint8)) for img in x_train]\n",
        "x_test = [Image.fromarray(img.astype(np.uint8)) for img in x_test]"
      ],
      "metadata": {
        "id": "i3MyrXoGQGWJ"
      },
      "execution_count": null,
      "outputs": []
    },
    {
      "cell_type": "code",
      "source": [
        "# This may take a few minutes\n",
        "train_features = get_features(net, x_train)\n",
        "test_features = get_features(net, x_test)"
      ],
      "metadata": {
        "id": "NIGEfMnhQq5H"
      },
      "execution_count": null,
      "outputs": []
    },
    {
      "cell_type": "code",
      "source": [
        "print(\"train_features\",train_features.shape)\n",
        "print(\"test_features\",test_features.shape)\n"
      ],
      "metadata": {
        "colab": {
          "base_uri": "https://localhost:8080/"
        },
        "id": "Q2nqXKWcYyPC",
        "outputId": "9c7f3ea8-1525-4f75-c5f8-d25ee0ad10fe"
      },
      "execution_count": null,
      "outputs": [
        {
          "output_type": "stream",
          "name": "stdout",
          "text": [
            "train_features (5000, 2048)\n",
            "test_features (10000, 2048)\n"
          ]
        }
      ]
    },
    {
      "cell_type": "code",
      "source": [
        "# fit on training data\n",
        "neigh = NearestNeighbors(n_neighbors=2)\n",
        "neigh.fit(train_features)\n",
        "# get k nearest neighbors of each point in test data\n",
        "distances, indices = neigh.kneighbors(test_features)\n",
        "# get the mean distance of each point to its nearest neighbors\n",
        "mean_distances = np.mean(distances, axis=1)\n",
        "mean_distances = np.clip(mean_distances, 0, 10000)\n",
        "\n",
        "plot_scores(img_test_label, mean_distances)"
      ],
      "metadata": {
        "colab": {
          "base_uri": "https://localhost:8080/",
          "height": 574
        },
        "id": "M6bcHIMTZjxC",
        "outputId": "66e4e46c-62ad-43a5-e9cc-248bfddb3dae"
      },
      "execution_count": null,
      "outputs": [
        {
          "output_type": "display_data",
          "data": {
            "text/plain": [
              "<Figure size 432x288 with 1 Axes>"
            ],
            "image/png": "[encoded data removed]"
          },
          "metadata": {
            "needs_background": "light"
          }
        },
        {
          "output_type": "display_data",
          "data": {
            "text/plain": [
              "<Figure size 432x288 with 1 Axes>"
            ],
            "image/png": "[encoded data removed]"
          },
          "metadata": {
            "needs_background": "light"
          }
        },
        {
          "output_type": "stream",
          "name": "stdout",
          "text": [
            "roc auc is 0.968\n"
          ]
        }
      ]
    },
    {
      "cell_type": "markdown",
      "source": [
        "## 2.4 AD with mertic adptation\n",
        "###2.4.1 Simple Whitening\n"
      ],
      "metadata": {
        "id": "ob7z_mrlxRQr"
      }
    },
    {
      "cell_type": "markdown",
      "source": [
        "### Can we do with less data?\n",
        "### Try changing the `sampling_factor`"
      ],
      "metadata": {
        "id": "RX5cF2EWo9Aj"
      }
    },
    {
      "cell_type": "code",
      "source": [
        "sampling_factor = 1\n",
        "x_train_raw_vector_short = train_features[::sampling_factor]"
      ],
      "metadata": {
        "id": "v85srCXs_WUf"
      },
      "execution_count": null,
      "outputs": []
    },
    {
      "cell_type": "code",
      "source": [
        "#Whiten that data\n",
        "from sklearn.decomposition import PCA\n",
        "pca = PCA(whiten=True)\n",
        "\n",
        "train_whiten = pca.fit_transform(x_train_raw_vector_short)\n",
        "test_whiten = pca.transform(test_features)"
      ],
      "metadata": {
        "id": "ybyZEbC0xToC"
      },
      "execution_count": null,
      "outputs": []
    },
    {
      "cell_type": "code",
      "source": [
        "# fit on training data\n",
        "neigh = NearestNeighbors(n_neighbors=2)\n",
        "neigh.fit(train_whiten)\n",
        "# get k nearest neighbors of each point in test data\n",
        "distances, indices = neigh.kneighbors(test_whiten)\n",
        "# get the mean distance of each point to its nearest neighbors\n",
        "mean_distances = np.mean(distances, axis=1)\n",
        "mean_distances = np.clip(mean_distances, 0, 10000)\n",
        "\n",
        "plot_scores(img_test_label, mean_distances)"
      ],
      "metadata": {
        "colab": {
          "base_uri": "https://localhost:8080/",
          "height": 574
        },
        "id": "Jy_muNlKxqpB",
        "outputId": "6ba2f186-7144-4e6e-ed72-890f8ee94247"
      },
      "execution_count": null,
      "outputs": [
        {
          "output_type": "display_data",
          "data": {
            "text/plain": [
              "<Figure size 432x288 with 1 Axes>"
            ],
            "image/png": "[encoded data removed]"
          },
          "metadata": {
            "needs_background": "light"
          }
        },
        {
          "output_type": "display_data",
          "data": {
            "text/plain": [
              "<Figure size 432x288 with 1 Axes>"
            ],
            "image/png": "[encoded data removed]"
          },
          "metadata": {
            "needs_background": "light"
          }
        },
        {
          "output_type": "stream",
          "name": "stdout",
          "text": [
            "roc auc is 0.968\n"
          ]
        }
      ]
    },
    {
      "cell_type": "markdown",
      "source": [
        "### What happened?\n",
        "\n",
        "## 2.4.2 Let's try with shrinkage!\n",
        "### Try to play with the shrinkage_factor, which tradeoff is it? :-)\n",
        "### Check out: https://www.youtube.com/watch?app=desktop&v=cUqoHQDinCM&t=594s"
      ],
      "metadata": {
        "id": "o4VxaIgxzD75"
      }
    },
    {
      "cell_type": "code",
      "source": [
        "from sklearn.covariance import ShrunkCovariance\n",
        "\n",
        "\n",
        "class Shrunk_Sphering():\n",
        "    def __init__(self, shrinkage_factor = 0.1):\n",
        "        self.shrinkage_factor = shrinkage_factor\n",
        "        pass\n",
        "\n",
        "    def fit(self, X):\n",
        "        print(\"before cov\")\n",
        "        print(\"X\",X.shape)\n",
        "        cov = ShrunkCovariance(shrinkage = self.shrinkage_factor).fit(X).covariance_\n",
        "        print(\"after cov\")\n",
        "        u, s, vh = np.linalg.svd(cov, hermitian=True, full_matrices=True)\n",
        "        self.W = np.matmul(np.diag(1/np.sqrt(s)), vh)\n",
        "        self.mu = X.mean(0)[None, :]\n",
        "\n",
        "    def transform(self, X):\n",
        "        X_sph = np.matmul(X - self.mu, self.W.T)\n",
        "        return X_sph"
      ],
      "metadata": {
        "id": "7LUdb6cY0g_5"
      },
      "execution_count": null,
      "outputs": []
    },
    {
      "cell_type": "code",
      "source": [
        "shrinkage_factor = 0.1"
      ],
      "metadata": {
        "id": "y-khQi2Qzw34"
      },
      "execution_count": null,
      "outputs": []
    },
    {
      "cell_type": "code",
      "source": [
        "zca_sphere = Shrunk_Sphering(shrinkage_factor = shrinkage_factor)\n",
        "zca_sphere.fit(x_train_raw_vector_short)\n",
        "\n",
        "train_shrinkage = zca_sphere.transform(x_train_raw_vector_short)\n",
        "test_shrinkage = zca_sphere.transform(test_features)"
      ],
      "metadata": {
        "colab": {
          "base_uri": "https://localhost:8080/"
        },
        "id": "AQ5FvIBQy3ho",
        "outputId": "b9f85bc9-ee1f-44eb-ab5d-1a2d397149ee"
      },
      "execution_count": null,
      "outputs": [
        {
          "output_type": "stream",
          "name": "stdout",
          "text": [
            "before cov\n",
            "X (5000, 2048)\n",
            "after cov\n"
          ]
        }
      ]
    },
    {
      "cell_type": "code",
      "source": [
        "\n",
        "# fit on training data\n",
        "neigh = NearestNeighbors(n_neighbors=2)\n",
        "neigh.fit(train_shrinkage)\n",
        "# get k nearest neighbors of each point in test data\n",
        "distances, indices = neigh.kneighbors(test_shrinkage)\n",
        "# get the mean distance of each point to its nearest neighbors\n",
        "mean_distances = np.mean(distances, axis=1)\n",
        "mean_distances = np.clip(mean_distances, 0, 100)\n",
        "\n",
        "plot_scores(img_test_label, mean_distances)"
      ],
      "metadata": {
        "colab": {
          "base_uri": "https://localhost:8080/",
          "height": 574
        },
        "id": "ho_286Wny_j4",
        "outputId": "9a76907e-6f3a-47bb-ea62-6547443abc18"
      },
      "execution_count": null,
      "outputs": [
        {
          "output_type": "display_data",
          "data": {
            "text/plain": [
              "<Figure size 432x288 with 1 Axes>"
            ],
            "image/png": "[encoded data removed]"
          },
          "metadata": {
            "needs_background": "light"
          }
        },
        {
          "output_type": "display_data",
          "data": {
            "text/plain": [
              "<Figure size 432x288 with 1 Axes>"
            ],
            "image/png": "[encoded data removed]"
          },
          "metadata": {
            "needs_background": "light"
          }
        },
        {
          "output_type": "stream",
          "name": "stdout",
          "text": [
            "roc auc is 0.970\n"
          ]
        }
      ]
    },
    {
      "cell_type": "markdown",
      "source": [
        "## Better adptation methods (not in colab):\n",
        "https://github.com/talreiss/PANDA <br>\n",
        "https://github.com/talreiss/Mean-Shifted-Anomaly-Detection"
      ],
      "metadata": {
        "id": "28olf7N41Xrx"
      }
    },
    {
      "cell_type": "markdown",
      "source": [
        "## Anomaly Segmentation Methods: (not in colab):\n",
        "https://github.com/byungjae89/SPADE-pytorch <br>\n",
        "https://github.com/amazon-science/patchcore-inspection"
      ],
      "metadata": {
        "id": "OV8koP2g120f"
      }
    },
    {
      "cell_type": "code",
      "source": [],
      "metadata": {
        "id": "qz6rp6_C0xxu"
      },
      "execution_count": null,
      "outputs": []
    },
    {
      "cell_type": "markdown",
      "source": [
        "# 3. **Try your own dataset!**"
      ],
      "metadata": {
        "id": "zwechZYY5K90"
      }
    },
    {
      "cell_type": "code",
      "source": [
        "from google.colab import drive\n",
        "drive.mount('/content/drive')"
      ],
      "metadata": {
        "id": "bA3t1PVd5LZF"
      },
      "execution_count": null,
      "outputs": []
    },
    {
      "cell_type": "code",
      "source": [
        "from PIL import Image\n",
        "with Image.open(\"hopper.jpg\") as im:\n",
        "    im.rotate(45).show()"
      ],
      "metadata": {
        "id": "Lpt6NCFy5Lxz"
      },
      "execution_count": null,
      "outputs": []
    }
  ]
}